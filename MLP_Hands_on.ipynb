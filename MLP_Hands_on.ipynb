{
  "nbformat": 4,
  "nbformat_minor": 0,
  "metadata": {
    "colab": {
      "name": "MLP Hands on.ipynb",
      "provenance": [],
      "collapsed_sections": []
    },
    "kernelspec": {
      "name": "python3",
      "display_name": "Python 3"
    },
    "language_info": {
      "name": "python"
    }
  },
  "cells": [
    {
      "cell_type": "code",
      "execution_count": null,
      "metadata": {
        "colab": {
          "base_uri": "https://localhost:8080/"
        },
        "id": "Rxi0rW-5EBqb",
        "outputId": "56e0b6af-eef2-4712-9a6b-3bc4a55bbf59"
      },
      "outputs": [
        {
          "output_type": "stream",
          "name": "stdout",
          "text": [
            "['Iris-virginica']\n"
          ]
        },
        {
          "output_type": "stream",
          "name": "stderr",
          "text": [
            "/usr/local/lib/python3.7/dist-packages/sklearn/base.py:446: UserWarning: X does not have valid feature names, but MLPClassifier was fitted with feature names\n",
            "  \"X does not have valid feature names, but\"\n"
          ]
        }
      ],
      "source": [
        "import pandas as pd\n",
        "data=pd.read_csv(\"/content/Iris.csv\")\n",
        "x=data[['SepalLengthCm', 'SepalWidthCm',\t'PetalLengthCm',\t'PetalWidthCm']]\n",
        "y=data['Species']\n",
        "from sklearn.neural_network import MLPClassifier\n",
        "ML=MLPClassifier(hidden_layer_sizes=(300,),activation=\"relu\",max_iter=1000)\n",
        "ML=ML.fit(x,y)\n",
        "op=ML.predict([[8.2,9,5.2,6.7]])\n",
        "print(op)"
      ]
    },
    {
      "cell_type": "code",
      "source": [
        "import pandas as pd\n",
        "data=pd.read_csv(\"/content/Iris.csv\")\n",
        "x=data[['SepalLengthCm', 'SepalWidthCm',\t'PetalLengthCm',\t'PetalWidthCm']]\n",
        "y=data['Species']\n",
        "from sklearn.neural_network import MLPClassifier\n",
        "ML=MLPClassifier(hidden_layer_sizes=(3,),activation=\"relu\",max_iter=1000)\n",
        "from sklearn.model_selection import train_test_split\n",
        "x_train, x_test, y_train, y_test = train_test_split(x, y, test_size=0.30)\n",
        "ML=ML.fit(x_train,y_train)\n",
        "op=ML.predict(x_test)\n",
        "from sklearn.metrics import accuracy_score\n",
        "print(accuracy_score(y_test, op))\n",
        "from sklearn.metrics import precision_recall_fscore_support\n",
        "precision_recall_fscore_support(y_test, op)"
      ],
      "metadata": {
        "colab": {
          "base_uri": "https://localhost:8080/"
        },
        "id": "5VPuUZB3H4mQ",
        "outputId": "4e8785a9-1c25-42da-9c63-accbe412ddf3"
      },
      "execution_count": null,
      "outputs": [
        {
          "output_type": "stream",
          "name": "stdout",
          "text": [
            "0.9629629629629629\n"
          ]
        },
        {
          "output_type": "stream",
          "name": "stderr",
          "text": [
            "/usr/local/lib/python3.7/dist-packages/sklearn/neural_network/_multilayer_perceptron.py:696: ConvergenceWarning: Stochastic Optimizer: Maximum iterations (1000) reached and the optimization hasn't converged yet.\n",
            "  ConvergenceWarning,\n"
          ]
        },
        {
          "output_type": "execute_result",
          "data": {
            "text/plain": [
              "(array([1.        , 0.97619048, 0.91836735]),\n",
              " array([1.        , 0.91111111, 0.97826087]),\n",
              " array([1.        , 0.94252874, 0.94736842]),\n",
              " array([44, 45, 46]))"
            ]
          },
          "metadata": {},
          "execution_count": 30
        }
      ]
    }
  ]
}