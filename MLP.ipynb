{
  "cells": [
    {
      "cell_type": "code",
      "execution_count": null,
      "metadata": {
        "colab": {
          "base_uri": "https://localhost:8080/"
        },
        "id": "9b0qB9Ikz-Yi",
        "outputId": "904d3fee-403b-4943-a352-9939952e6c45"
      },
      "outputs": [
        {
          "name": "stdout",
          "output_type": "stream",
          "text": [
            "[[1.07088771e-04 2.72923841e-01 7.26969070e-01]]\n"
          ]
        }
      ],
      "source": [
        "from sklearn.datasets import load_iris\n",
        "iris=load_iris()\n",
        "x=iris.data\n",
        "y=iris.target\n",
        "from sklearn.neural_network import MLPClassifier\n",
        "ML=MLPClassifier(hidden_layer_sizes=(300,),activation=\"relu\",max_iter=1000)\n",
        "ML=ML.fit(x,y)\n",
        "op=ML.predict_proba([[5.7, 2.4, 4.1 , 1.9]])\n",
        "print(op)"
      ]
    },
    {
      "cell_type": "code",
      "execution_count": null,
      "metadata": {
        "colab": {
          "base_uri": "https://localhost:8080/"
        },
        "id": "ImzWqYj_1NDL",
        "outputId": "3e1cccec-7d80-4d5b-dc3c-56e63ac72518"
      },
      "outputs": [
        {
          "data": {
            "text/plain": [
              "array([2])"
            ]
          },
          "execution_count": 36,
          "metadata": {},
          "output_type": "execute_result"
        }
      ],
      "source": [
        "op=ML.predict([[5.7, 2.4, 4.1 , 1.9]])\n",
        "op"
      ]
    },
    {
      "cell_type": "code",
      "execution_count": null,
      "metadata": {
        "colab": {
          "base_uri": "https://localhost:8080/"
        },
        "id": "dLZucH011_Ap",
        "outputId": "23657a97-1a43-47fc-d41d-3f59109b56cb"
      },
      "outputs": [
        {
          "name": "stdout",
          "output_type": "stream",
          "text": [
            "Accuracy:90.74%\n"
          ]
        }
      ],
      "source": [
        "ML=MLPClassifier(hidden_layer_sizes=(300,),activation=\"relu\",max_iter=1000,solver=\"adam\")\n",
        "from sklearn.model_selection import train_test_split\n",
        "x_train, x_test, y_train, y_test = train_test_split(x, y, test_size=0.30)\n",
        "ML=ML.fit(x_train,y_train)\n",
        "op=ML.predict(x_test)\n",
        "from sklearn.metrics import accuracy_score\n",
        "acc=accuracy_score(y_test, op)\n",
        "print(\"Accuracy:{:.2f}%\".format(acc*100))"
      ]
    },
    {
      "cell_type": "code",
      "execution_count": null,
      "metadata": {
        "colab": {
          "base_uri": "https://localhost:8080/"
        },
        "id": "SqD9G6uR3oxV",
        "outputId": "8b0854f9-c740-4fa1-af65-1d96f685a0d8"
      },
      "outputs": [
        {
          "name": "stdout",
          "output_type": "stream",
          "text": [
            "Accuracy:96.30%\n"
          ]
        }
      ],
      "source": [
        "from sklearn.datasets import load_wine\n",
        "wine=load_wine()\n",
        "x=wine.data\n",
        "y=wine.target\n",
        "ML=MLPClassifier(hidden_layer_sizes=(300,),activation=\"relu\",max_iter=1000,solver=\"adam\")\n",
        "from sklearn.model_selection import train_test_split\n",
        "x_train, x_test, y_train, y_test = train_test_split(x, y, test_size=0.30)\n",
        "ML=ML.fit(x_train,y_train)\n",
        "op=ML.predict(x_test)\n",
        "from sklearn.metrics import accuracy_score\n",
        "acc=accuracy_score(y_test, op)\n",
        "print(\"Accuracy:{:.2f}%\".format(acc*100))"
      ]
    },
    {
      "cell_type": "code",
      "execution_count": null,
      "metadata": {
        "colab": {
          "background_save": true
        },
        "id": "sN592Vpj4QXG",
        "outputId": "0e57f75f-5ded-4882-e9e4-adce7f4d8154"
      },
      "outputs": [
        {
          "name": "stdout",
          "output_type": "stream",
          "text": [
            "0.7813303194418946\n"
          ]
        }
      ],
      "source": [
        "from sklearn.datasets import fetch_covtype\n",
        "X,y=fetch_covtype(return_X_y=True)\n",
        "y=y-1\n",
        "from sklearn.neural_network import MLPClassifier\n",
        "ML=MLPClassifier(hidden_layer_sizes=(300,),activation=\"relu\",max_iter=1000,solver=\"adam\")\n",
        "from sklearn.model_selection import train_test_split\n",
        "x_train, x_test, y_train, y_test = train_test_split(X, y, test_size=0.30)\n",
        "ML=ML.fit(x_train,y_train)\n",
        "op=ML.predict(x_test)\n",
        "from sklearn.metrics import accuracy_score\n",
        "print(accuracy_score(y_test, op))"
      ]
    }
  ],
  "metadata": {
    "colab": {
      "name": "MLP.ipynb",
      "provenance": []
    },
    "kernelspec": {
      "display_name": "Python 3",
      "name": "python3"
    },
    "language_info": {
      "name": "python"
    }
  },
  "nbformat": 4,
  "nbformat_minor": 0
}